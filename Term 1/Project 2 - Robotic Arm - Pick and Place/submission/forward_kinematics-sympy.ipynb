{
 "cells": [
  {
   "cell_type": "code",
   "execution_count": 1,
   "metadata": {
    "collapsed": false
   },
   "outputs": [],
   "source": [
    "import sympy as sp\n",
    "from sympy.matrices import Matrix\n",
    "#import numpy as np\n",
    "\n",
    "# pretty print numpy matrices\n",
    "#np.set_printoptions(formatter={'float': '{: 0.5f}'.format})"
   ]
  },
  {
   "cell_type": "code",
   "execution_count": 2,
   "metadata": {
    "collapsed": true
   },
   "outputs": [],
   "source": [
    "th1, th2, th3, th4, th5, th6 = sp.symbols('th1:7')\n",
    "\n",
    "# the DH paramters for KUKA robot as per written document\n",
    "# alpha, a, d, theta (adjustmet)\n",
    "# the angles we will use to control the robot will be added to the theta paramters\n",
    "DH = [[0       , 0     , 0.75 , th1          ],\n",
    "      [-sp.pi/2, 0.35  , 0    , th2 - sp.pi/2],\n",
    "      [0       , 1.25  , 0    , th3          ],\n",
    "      [-sp.pi/2, -0.054, 1.5  , th4          ],\n",
    "      [sp.pi/2 , 0     , 0    , th5          ],\n",
    "      [-sp.pi/2, 0     , 0    , th6          ],\n",
    "      [0       , 0     , 0.303, 0            ]]"
   ]
  },
  {
   "cell_type": "code",
   "execution_count": 3,
   "metadata": {
    "collapsed": false
   },
   "outputs": [],
   "source": [
    "# a help function that builds a transformation matrix given the 4 DH paramters for that joint\n",
    "def LinkTransform(params):\n",
    "    # params is a list of length 4: alpha, a, d, theta in this order\n",
    "    alpha = params[0]\n",
    "    a = params[1]\n",
    "    d = params[2]\n",
    "    theta = params[3]\n",
    "    # returns a Matrix of transformation for the given DH paramters\n",
    "    return Matrix([[sp.cos(theta)              , -sp.sin(theta)             , 0             , a],\n",
    "                   [sp.sin(theta)*sp.cos(alpha), sp.cos(theta)*sp.cos(alpha), -sp.sin(alpha), -sp.sin(alpha)*d],\n",
    "                   [sp.sin(theta)*sp.sin(alpha), sp.cos(theta)*sp.sin(alpha), sp.cos(alpha) , sp.cos(alpha)*d],\n",
    "                   [0                          , 0                          , 0             , 1]])"
   ]
  },
  {
   "cell_type": "code",
   "execution_count": 4,
   "metadata": {
    "collapsed": false
   },
   "outputs": [
    {
     "name": "stdout",
     "output_type": "stream",
     "text": [
      "Matrix([\n",
      "[-sin(th4)*sin(th6) + cos(th4)*cos(th5)*cos(th6), -sin(th4)*cos(th6) - sin(th6)*cos(th4)*cos(th5), -sin(th5)*cos(th4)],\n",
      "[                              sin(th5)*cos(th6),                              -sin(th5)*sin(th6),           cos(th5)],\n",
      "[-sin(th4)*cos(th5)*cos(th6) - sin(th6)*cos(th4),  sin(th4)*sin(th6)*cos(th5) - cos(th4)*cos(th6),  sin(th4)*sin(th5)]])\n"
     ]
    }
   ],
   "source": [
    "T34 = LinkTransform(DH[3])\n",
    "T45 = LinkTransform(DH[4])\n",
    "T56 = LinkTransform(DH[5])\n",
    "T36 = sp.simplify(T34 * T45 * T56)\n",
    "print(T36[0:3,0:3])"
   ]
  },
  {
   "cell_type": "code",
   "execution_count": 14,
   "metadata": {
    "collapsed": true
   },
   "outputs": [],
   "source": [
    "# builds a transformation matrix for the orientation adjustment of the gripper\n",
    "# so that we are consistent with the URDF representaiton of the gripper\n",
    "def GripperAdjust(r_z = sp.pi, r_y = -sp.pi/2):\n",
    "    R_z = Matrix([[sp.cos(r_z), -sp.sin(r_z), 0, 0],\n",
    "                  [sp.sin(r_z), sp.cos(r_z) , 0, 0],\n",
    "                  [0          , 0           , 1, 0],\n",
    "                  [0          , 0           , 0, 1]])\n",
    "    R_y = Matrix([[sp.cos(r_y) , 0          , sp.sin(r_y), 0],\n",
    "                  [0           , 1          , 0          , 0],\n",
    "                  [-sp.sin(r_y), 0          , sp.cos(r_y), 0],\n",
    "                  [0           , 0          , 0          , 1]])\n",
    "    return sp.simplify(R_z * R_y)"
   ]
  },
  {
   "cell_type": "code",
   "execution_count": 21,
   "metadata": {
    "collapsed": false
   },
   "outputs": [
    {
     "name": "stdout",
     "output_type": "stream",
     "text": [
      "T01 = Matrix([\n",
      "[cos(th1), -sin(th1), 0,    0],\n",
      "[sin(th1),  cos(th1), 0,    0],\n",
      "[       0,         0, 1, 0.75],\n",
      "[       0,         0, 0,    1]])\n",
      "\n",
      "T12 = Matrix([\n",
      "[sin(th2),  cos(th2), 0, 0.35],\n",
      "[       0,         0, 1,    0],\n",
      "[cos(th2), -sin(th2), 0,    0],\n",
      "[       0,         0, 0,    1]])\n",
      "\n",
      "T23 = Matrix([\n",
      "[cos(th3), -sin(th3), 0, 1.25],\n",
      "[sin(th3),  cos(th3), 0,    0],\n",
      "[       0,         0, 1,    0],\n",
      "[       0,         0, 0,    1]])\n",
      "\n",
      "T34 = Matrix([\n",
      "[ cos(th4), -sin(th4), 0, -0.054],\n",
      "[        0,         0, 1,    1.5],\n",
      "[-sin(th4), -cos(th4), 0,      0],\n",
      "[        0,         0, 0,      1]])\n",
      "\n",
      "T45 = Matrix([\n",
      "[cos(th5), -sin(th5),  0, 0],\n",
      "[       0,         0, -1, 0],\n",
      "[sin(th5),  cos(th5),  0, 0],\n",
      "[       0,         0,  0, 1]])\n",
      "\n",
      "T56 = Matrix([\n",
      "[ cos(th6), -sin(th6), 0, 0],\n",
      "[        0,         0, 1, 0],\n",
      "[-sin(th6), -cos(th6), 0, 0],\n",
      "[        0,         0, 0, 1]])\n",
      "\n",
      "T6G = Matrix([\n",
      "[1, 0, 0,     0],\n",
      "[0, 1, 0,     0],\n",
      "[0, 0, 1, 0.303],\n",
      "[0, 0, 0,     1]])\n",
      "\n",
      "TGA = Matrix([\n",
      "[0,  0, 1, 0],\n",
      "[0, -1, 0, 0],\n",
      "[1,  0, 0, 0],\n",
      "[0,  0, 0, 1]])\n"
     ]
    }
   ],
   "source": [
    "T01 = LinkTransform(DH[0])\n",
    "print('T01 = '+str(sp.simplify(T01))+'\\n')\n",
    "T12 = LinkTransform(DH[1])\n",
    "print('T12 = '+str(sp.simplify(T12))+'\\n')\n",
    "T23 = LinkTransform(DH[2])\n",
    "print('T23 = '+str(sp.simplify(T23))+'\\n')\n",
    "T34 = LinkTransform(DH[3])\n",
    "print('T34 = '+str(sp.simplify(T34))+'\\n')\n",
    "T45 = LinkTransform(DH[4])\n",
    "print('T45 = '+str(sp.simplify(T45))+'\\n')\n",
    "T56 = LinkTransform(DH[5])\n",
    "print('T56 = '+str(sp.simplify(T56))+'\\n')\n",
    "T6G = LinkTransform(DH[6])\n",
    "print('T6G = '+str(sp.simplify(T6G))+'\\n')\n",
    "print('TGA = '+str(GripperAdjust()))"
   ]
  },
  {
   "cell_type": "code",
   "execution_count": 24,
   "metadata": {
    "collapsed": false
   },
   "outputs": [
    {
     "name": "stdout",
     "output_type": "stream",
     "text": [
      "T0G unajusted = Matrix([\n",
      "[((sin(th1)*sin(th4) + sin(th2 + th3)*cos(th1)*cos(th4))*cos(th5) + sin(th5)*cos(th1)*cos(th2 + th3))*cos(th6) - (-sin(th1)*cos(th4) + sin(th4)*sin(th2 + th3)*cos(th1))*sin(th6), -((sin(th1)*sin(th4) + sin(th2 + th3)*cos(th1)*cos(th4))*cos(th5) + sin(th5)*cos(th1)*cos(th2 + th3))*sin(th6) + (sin(th1)*cos(th4) - sin(th4)*sin(th2 + th3)*cos(th1))*cos(th6), -(sin(th1)*sin(th4) + sin(th2 + th3)*cos(th1)*cos(th4))*sin(th5) + cos(th1)*cos(th5)*cos(th2 + th3), -0.303*sin(th1)*sin(th4)*sin(th5) + 1.25*sin(th2)*cos(th1) - 0.303*sin(th5)*sin(th2 + th3)*cos(th1)*cos(th4) - 0.054*sin(th2 + th3)*cos(th1) + 0.303*cos(th1)*cos(th5)*cos(th2 + th3) + 1.5*cos(th1)*cos(th2 + th3) + 0.35*cos(th1)],\n",
      "[ ((sin(th1)*sin(th2 + th3)*cos(th4) - sin(th4)*cos(th1))*cos(th5) + sin(th1)*sin(th5)*cos(th2 + th3))*cos(th6) - (sin(th1)*sin(th4)*sin(th2 + th3) + cos(th1)*cos(th4))*sin(th6), -((sin(th1)*sin(th2 + th3)*cos(th4) - sin(th4)*cos(th1))*cos(th5) + sin(th1)*sin(th5)*cos(th2 + th3))*sin(th6) - (sin(th1)*sin(th4)*sin(th2 + th3) + cos(th1)*cos(th4))*cos(th6), -(sin(th1)*sin(th2 + th3)*cos(th4) - sin(th4)*cos(th1))*sin(th5) + sin(th1)*cos(th5)*cos(th2 + th3),  1.25*sin(th1)*sin(th2) - 0.303*sin(th1)*sin(th5)*sin(th2 + th3)*cos(th4) - 0.054*sin(th1)*sin(th2 + th3) + 0.303*sin(th1)*cos(th5)*cos(th2 + th3) + 1.5*sin(th1)*cos(th2 + th3) + 0.35*sin(th1) + 0.303*sin(th4)*sin(th5)*cos(th1)],\n",
      "[                                                                       -(sin(th5)*sin(th2 + th3) - cos(th4)*cos(th5)*cos(th2 + th3))*cos(th6) - sin(th4)*sin(th6)*cos(th2 + th3),                                                                         (sin(th5)*sin(th2 + th3) - cos(th4)*cos(th5)*cos(th2 + th3))*sin(th6) - sin(th4)*cos(th6)*cos(th2 + th3),                                         -sin(th5)*cos(th4)*cos(th2 + th3) - sin(th2 + th3)*cos(th5),                                                                                          -0.303*sin(th5)*cos(th4)*cos(th2 + th3) - 0.303*sin(th2 + th3)*cos(th5) - 1.5*sin(th2 + th3) + 1.25*cos(th2) - 0.054*cos(th2 + th3) + 0.75],\n",
      "[                                                                                                                                                                               0,                                                                                                                                                                                0,                                                                                                   0,                                                                                                                                                                                                                                   1]])\n"
     ]
    }
   ],
   "source": [
    "T0G = sp.simplify(T01*T12*T23*T34*T45*T56*T6G)\n",
    "print('T0G unajusted = '+str(T0G))"
   ]
  },
  {
   "cell_type": "code",
   "execution_count": 25,
   "metadata": {
    "collapsed": false
   },
   "outputs": [
    {
     "name": "stdout",
     "output_type": "stream",
     "text": [
      "T0G ajusted = Matrix([\n",
      "[-(sin(th1)*sin(th4) + sin(th2 + th3)*cos(th1)*cos(th4))*sin(th5) + cos(th1)*cos(th5)*cos(th2 + th3), ((sin(th1)*sin(th4) + sin(th2 + th3)*cos(th1)*cos(th4))*cos(th5) + sin(th5)*cos(th1)*cos(th2 + th3))*sin(th6) - (sin(th1)*cos(th4) - sin(th4)*sin(th2 + th3)*cos(th1))*cos(th6), ((sin(th1)*sin(th4) + sin(th2 + th3)*cos(th1)*cos(th4))*cos(th5) + sin(th5)*cos(th1)*cos(th2 + th3))*cos(th6) + (sin(th1)*cos(th4) - sin(th4)*sin(th2 + th3)*cos(th1))*sin(th6), -0.303*sin(th1)*sin(th4)*sin(th5) + 1.25*sin(th2)*cos(th1) - 0.303*sin(th5)*sin(th2 + th3)*cos(th1)*cos(th4) - 0.054*sin(th2 + th3)*cos(th1) + 0.303*cos(th1)*cos(th5)*cos(th2 + th3) + 1.5*cos(th1)*cos(th2 + th3) + 0.35*cos(th1)],\n",
      "[-(sin(th1)*sin(th2 + th3)*cos(th4) - sin(th4)*cos(th1))*sin(th5) + sin(th1)*cos(th5)*cos(th2 + th3), ((sin(th1)*sin(th2 + th3)*cos(th4) - sin(th4)*cos(th1))*cos(th5) + sin(th1)*sin(th5)*cos(th2 + th3))*sin(th6) + (sin(th1)*sin(th4)*sin(th2 + th3) + cos(th1)*cos(th4))*cos(th6), ((sin(th1)*sin(th2 + th3)*cos(th4) - sin(th4)*cos(th1))*cos(th5) + sin(th1)*sin(th5)*cos(th2 + th3))*cos(th6) - (sin(th1)*sin(th4)*sin(th2 + th3) + cos(th1)*cos(th4))*sin(th6),  1.25*sin(th1)*sin(th2) - 0.303*sin(th1)*sin(th5)*sin(th2 + th3)*cos(th4) - 0.054*sin(th1)*sin(th2 + th3) + 0.303*sin(th1)*cos(th5)*cos(th2 + th3) + 1.5*sin(th1)*cos(th2 + th3) + 0.35*sin(th1) + 0.303*sin(th4)*sin(th5)*cos(th1)],\n",
      "[                                        -sin(th5)*cos(th4)*cos(th2 + th3) - sin(th2 + th3)*cos(th5),                                                                       -(sin(th5)*sin(th2 + th3) - cos(th4)*cos(th5)*cos(th2 + th3))*sin(th6) + sin(th4)*cos(th6)*cos(th2 + th3),                                                                       -(sin(th5)*sin(th2 + th3) - cos(th4)*cos(th5)*cos(th2 + th3))*cos(th6) - sin(th4)*sin(th6)*cos(th2 + th3),                                                                                          -0.303*sin(th5)*cos(th4)*cos(th2 + th3) - 0.303*sin(th2 + th3)*cos(th5) - 1.5*sin(th2 + th3) + 1.25*cos(th2) - 0.054*cos(th2 + th3) + 0.75],\n",
      "[                                                                                                  0,                                                                                                                                                                               0,                                                                                                                                                                               0,                                                                                                                                                                                                                                   1]])\n"
     ]
    }
   ],
   "source": [
    "T0GA = sp.simplify(T0G*GripperAdjust())\n",
    "print('T0G ajusted = '+str(T0GA))"
   ]
  },
  {
   "cell_type": "code",
   "execution_count": null,
   "metadata": {
    "collapsed": true
   },
   "outputs": [],
   "source": [
    "# builds the transformation matrices based on the DH and the theta paramters\n",
    "# it resurns the final transformation matrix\n",
    "def ChainLinkTransform(DH, show = False):\n",
    "    for i in range(len(DH)):\n",
    "        T = LinkTransform(DH[i])\n",
    "        if i == 0:\n",
    "            result = T\n",
    "        else:\n",
    "            result = sp.simplify(result * T)\n",
    "\n",
    "        if show:\n",
    "            print(\"T%d_%d = \" % (i, i+1))\n",
    "            print(T)\n",
    "            print(\"T0_%d = \" % (i+1))\n",
    "            print(result)\n",
    "            \n",
    "    return sp.simplify(result * GripperAdust())"
   ]
  },
  {
   "cell_type": "code",
   "execution_count": null,
   "metadata": {
    "collapsed": true
   },
   "outputs": [],
   "source": [
    "# extracts the position and orientation from the quaternion matrix\n",
    "def OrientationFromQuaternion(Q):\n",
    "    pos = Q[:,3].T\n",
    "    orient = [sp.atan2(Q[2,1], Q[2,2]),\n",
    "              sp.atan2(-Q[2,0], sp.sqrt(Q[0,0]**2 + Q[1,0]**2)),\n",
    "              sp.atan2(Q[1,0], Q[0,0])]\n",
    "    \n",
    "    return pos[0:3], orient"
   ]
  },
  {
   "cell_type": "code",
   "execution_count": null,
   "metadata": {
    "collapsed": false
   },
   "outputs": [],
   "source": [
    "def CalculateEffector(sym, thetas):\n",
    "    res = sym.evalf(subs={th1: thetas[0], th2: thetas[1], th3: thetas[2], \n",
    "                          th4: thetas[3], th5: thetas[4], th6: thetas[5]})\n",
    "    pos, orient = OrientationFromQuaternion(res)\n",
    "    print(\"pos    = \"+str(pos))\n",
    "    print(\"orient = \"+str(orient))  "
   ]
  },
  {
   "cell_type": "code",
   "execution_count": null,
   "metadata": {
    "collapsed": true
   },
   "outputs": [],
   "source": [
    "symtransf = ChainLinkTransform(DH)"
   ]
  },
  {
   "cell_type": "code",
   "execution_count": null,
   "metadata": {
    "collapsed": false
   },
   "outputs": [],
   "source": [
    "th = [0, 0, 0, 0, 0, 0]\n",
    "CalculateEffector(symtransf, th)"
   ]
  },
  {
   "cell_type": "markdown",
   "metadata": {},
   "source": [
    "ROS Reported:<br>\n",
    "`Trans = [2.153, 0.000, 1.947]\n",
    "Rot = [0.000, 0.000, 0.000]`"
   ]
  },
  {
   "cell_type": "code",
   "execution_count": null,
   "metadata": {
    "collapsed": false
   },
   "outputs": [],
   "source": [
    "th = [0.99, 0, 0, 0, 0, 0, 0]\n",
    "CalculateEffector(symtransf, th)"
   ]
  },
  {
   "cell_type": "markdown",
   "metadata": {},
   "source": [
    "ROS Reported:<br>\n",
    "Trans = [1.173, 1.805, 1.947] <br>\n",
    "Rot = [0.000, 0.000, 0.994]"
   ]
  },
  {
   "cell_type": "code",
   "execution_count": null,
   "metadata": {
    "collapsed": false
   },
   "outputs": [],
   "source": [
    "th = [0.99, 0, 0, 0, 0, 0.72, 0]\n",
    "CalculateEffector(DH, th)"
   ]
  },
  {
   "cell_type": "markdown",
   "metadata": {},
   "source": [
    "ROS Reported:<br>\n",
    "Trans = [1.173, 1.805, 1.947] <br>\n",
    "Rot = [0.720, 0.0, 0.994]"
   ]
  },
  {
   "cell_type": "code",
   "execution_count": null,
   "metadata": {
    "collapsed": false
   },
   "outputs": [],
   "source": [
    "th = [0.99, 0, 0, 0, 0.49, 0.72, 0]\n",
    "CalculateEffector(DH, th)"
   ]
  },
  {
   "cell_type": "markdown",
   "metadata": {},
   "source": [
    "ROS Reported:<br>\n",
    "Trans = [1.154, 1.775, 1.804] <br>\n",
    "Rot   = [0.720, 0.489, 0.994]"
   ]
  }
 ],
 "metadata": {
  "kernelspec": {
   "display_name": "Python 2",
   "language": "python",
   "name": "python2"
  },
  "language_info": {
   "codemirror_mode": {
    "name": "ipython",
    "version": 2
   },
   "file_extension": ".py",
   "mimetype": "text/x-python",
   "name": "python",
   "nbconvert_exporter": "python",
   "pygments_lexer": "ipython2",
   "version": "2.7.13"
  }
 },
 "nbformat": 4,
 "nbformat_minor": 0
}
