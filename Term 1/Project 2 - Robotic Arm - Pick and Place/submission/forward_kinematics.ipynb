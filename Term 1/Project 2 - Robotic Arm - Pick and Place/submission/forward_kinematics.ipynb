{
 "cells": [
  {
   "cell_type": "code",
   "execution_count": 1,
   "metadata": {
    "collapsed": true
   },
   "outputs": [],
   "source": [
    "import numpy as np\n",
    "\n",
    "# pretty print numpy matrices\n",
    "np.set_printoptions(formatter={'float': '{: 0.5f}'.format})"
   ]
  },
  {
   "cell_type": "code",
   "execution_count": 2,
   "metadata": {
    "collapsed": true
   },
   "outputs": [],
   "source": [
    "# the DH paramters for KUKA robot as per written document\n",
    "# alpha, a, d, theta (adjustmet)\n",
    "# the angles we will use to control the robot will be added to the theta paramters\n",
    "DH = [[0       , 0     , 0.75 , 0        ],\n",
    "      [-np.pi/2, 0.35  , 0    , - np.pi/2],\n",
    "      [0       , 1.25  , 0    , 0        ],\n",
    "      [-np.pi/2, -0.054, 1.5  , 0        ],\n",
    "      [np.pi/2 , 0     , 0    , 0        ],\n",
    "      [-np.pi/2, 0     , 0    , 0        ],\n",
    "      [0       , 0     , 0.303, 0        ]]"
   ]
  },
  {
   "cell_type": "code",
   "execution_count": 3,
   "metadata": {
    "collapsed": false
   },
   "outputs": [],
   "source": [
    "# a help function that builds a transformation matrix given the 4 DH paramters for that joint\n",
    "def LinkTransform(params):\n",
    "    # params is a list of length 4: alpha, a, d, theta in this order\n",
    "    alpha, a, d, theta = params\n",
    "\n",
    "    # returns a Matrix of transformation for the given DH paramters\n",
    "    return np.array([[np.cos(theta)              , -np.sin(theta)             , 0             , a],\n",
    "                     [np.sin(theta)*np.cos(alpha), np.cos(theta)*np.cos(alpha), -np.sin(alpha), -np.sin(alpha)*d],\n",
    "                     [np.sin(theta)*np.sin(alpha), np.cos(theta)*np.sin(alpha), np.cos(alpha) , np.cos(alpha)*d],\n",
    "                     [0                          , 0                          , 0             , 1]])"
   ]
  },
  {
   "cell_type": "code",
   "execution_count": 4,
   "metadata": {
    "collapsed": true
   },
   "outputs": [],
   "source": [
    "# builds the transformation matrices based on the DH and the theta paramters\n",
    "# it resurns the final transformation matrix\n",
    "def ChainLinkTransform(DH, thetas, printTransformations = False):\n",
    "    for i in range(len(DH)):\n",
    "        params = list(DH[i])    # we need to make a copy \n",
    "        params[3] += thetas[i]\n",
    "        T = LinkTransform(params)\n",
    "        if i == 0:\n",
    "            result = T\n",
    "        else:\n",
    "            result = np.matmul(result, T)\n",
    "\n",
    "        if printTransformations:\n",
    "            print(\"T%d_%d = \" % (i, i+1))\n",
    "            print(T)\n",
    "            print(\"T0_%d = \" % (i+1))\n",
    "            print(result)\n",
    "            \n",
    "    return result"
   ]
  },
  {
   "cell_type": "code",
   "execution_count": 5,
   "metadata": {
    "collapsed": true
   },
   "outputs": [],
   "source": [
    "# extracts the position and orientation from the quaternion matrix\n",
    "def OrientationFromHom(hom):\n",
    "    pos = hom[:,3].T\n",
    "    orient = np.array([np.arctan2(hom[2,1], hom[2,2]),\n",
    "                       np.arctan2(-hom[2,0], np.sqrt(hom[0,0]**2 + hom[1,0]**2)),\n",
    "                       np.arctan2(hom[1,0], hom[0,0])])\n",
    "    \n",
    "    return pos[0:3], orient"
   ]
  },
  {
   "cell_type": "code",
   "execution_count": 6,
   "metadata": {
    "collapsed": true
   },
   "outputs": [],
   "source": [
    "# builds a transformation matrix for the orientation adjustment of the gripper\n",
    "# so that we are consistent with the URDF representaiton of the gripper\n",
    "def GripperAdust(r_z = np.pi, r_y = -np.pi/2):\n",
    "    R_z = np.array([[np.cos(r_z), -np.sin(r_z), 0, 0],\n",
    "                    [np.sin(r_z), np.cos(r_z) , 0, 0],\n",
    "                    [0          , 0           , 1, 0],\n",
    "                    [0          , 0           , 0, 1]])\n",
    "    R_y = np.array([[np.cos(r_y) , 0          , np.sin(r_y), 0],\n",
    "                    [0           , 1          , 0          , 0],\n",
    "                    [-np.sin(r_y), 0          , np.cos(r_y), 0],\n",
    "                    [0           , 0          , 0          , 1]])\n",
    "    return np.matmul(R_z, R_y)"
   ]
  },
  {
   "cell_type": "code",
   "execution_count": 7,
   "metadata": {
    "collapsed": false
   },
   "outputs": [],
   "source": [
    "def CalculateEffector(DH, thetas, printTransformations = False):\n",
    "    res = ChainLinkTransform(DH, thetas, printTransformations)\n",
    "    # adjust orientation\n",
    "    adj = GripperAdust()\n",
    "    res = np.matmul(res, adj)\n",
    "    if printTransformations:\n",
    "        print(\"Adjustment= \")\n",
    "        print(adj)\n",
    "        print(\"Adjusted  = \")\n",
    "        print(res)\n",
    "     \n",
    "    pos, orient = OrientationFromHom(res)\n",
    "    print(\"pos    = \"+str(pos))\n",
    "    print(\"orient = \"+str(orient))   "
   ]
  },
  {
   "cell_type": "code",
   "execution_count": 8,
   "metadata": {
    "collapsed": false
   },
   "outputs": [
    {
     "name": "stdout",
     "output_type": "stream",
     "text": [
      "pos    = [ 2.15300  0.00000  1.94600]\n",
      "orient = [-0.00000  0.00000  0.00000]\n"
     ]
    }
   ],
   "source": [
    "th = [0, 0, 0, 0, 0, 0, 0]\n",
    "CalculateEffector(DH, th)"
   ]
  },
  {
   "cell_type": "markdown",
   "metadata": {},
   "source": [
    "ROS Reported:<br>\n",
    "`Trans = [2.153, 0.000, 1.947]\n",
    "Rot = [0.000, 0.000, 0.000]`"
   ]
  },
  {
   "cell_type": "code",
   "execution_count": 9,
   "metadata": {
    "collapsed": false
   },
   "outputs": [
    {
     "name": "stdout",
     "output_type": "stream",
     "text": [
      "pos    = [ 1.18133  1.79996  1.94600]\n",
      "orient = [-0.00000  0.00000  0.99000]\n"
     ]
    }
   ],
   "source": [
    "th = [0.99, 0, 0, 0, 0, 0, 0]\n",
    "CalculateEffector(DH, th)"
   ]
  },
  {
   "cell_type": "markdown",
   "metadata": {},
   "source": [
    "ROS Reported:<br>\n",
    "`Trans = [1.173, 1.805, 1.947]\n",
    "Rot = [0.000, 0.000, 0.994]`"
   ]
  },
  {
   "cell_type": "code",
   "execution_count": 10,
   "metadata": {
    "collapsed": false
   },
   "outputs": [
    {
     "name": "stdout",
     "output_type": "stream",
     "text": [
      "pos    = [ 1.33754  2.03797  1.31812]\n",
      "orient = [-0.00000  0.32000  0.99000]\n"
     ]
    }
   ],
   "source": [
    "th = [0.99, 0.32, 0, 0, 0, 0, 0]\n",
    "CalculateEffector(DH, th)"
   ]
  },
  {
   "cell_type": "markdown",
   "metadata": {},
   "source": [
    "ROS Reported:<br>\n",
    "`Trans = [1.328, 2.044, 1.321]\n",
    "Rot = [0.000, 0.319, 0.994]`"
   ]
  },
  {
   "cell_type": "code",
   "execution_count": 11,
   "metadata": {
    "collapsed": false
   },
   "outputs": [
    {
     "name": "stdout",
     "output_type": "stream",
     "text": [
      "pos    = [ 1.38783  2.11461  2.18836]\n",
      "orient = [-0.00000 -0.17000  0.99000]\n"
     ]
    }
   ],
   "source": [
    "th = [0.99, 0.32, -0.49, 0, 0, 0, 0]\n",
    "CalculateEffector(DH, th)"
   ]
  },
  {
   "cell_type": "markdown",
   "metadata": {},
   "source": [
    "ROS Reported:<br>\n",
    "`Trans = [1.377, 2.120, 2.190]\n",
    "Rot = [0.000, -0.171, 0.994]`"
   ]
  },
  {
   "cell_type": "code",
   "execution_count": 12,
   "metadata": {
    "collapsed": false
   },
   "outputs": [
    {
     "name": "stdout",
     "output_type": "stream",
     "text": [
      "pos    = [ 1.38783  2.11461  2.18836]\n",
      "orient = [ 1.05000 -0.17000  0.99000]\n"
     ]
    }
   ],
   "source": [
    "th = [0.99, 0.32, -0.49, 1.05, 0, 0, 0]\n",
    "CalculateEffector(DH, th)"
   ]
  },
  {
   "cell_type": "markdown",
   "metadata": {},
   "source": [
    "ROS Reported:<br>\n",
    "`Trans = [1.377, 2.120, 2.190]\n",
    "Rot   = [1.046, -0.171, 0.994]`"
   ]
  },
  {
   "cell_type": "code",
   "execution_count": 13,
   "metadata": {
    "collapsed": false
   },
   "outputs": [
    {
     "name": "stdout",
     "output_type": "stream",
     "text": [
      "pos    = [ 1.14188  2.14032  2.04100]\n",
      "orient = [ 1.12313  0.32273  1.86052]\n"
     ]
    }
   ],
   "source": [
    "th = [0.99, 0.32, -0.49, 1.05, 0.99, 0, 0]\n",
    "CalculateEffector(DH, th)"
   ]
  },
  {
   "cell_type": "markdown",
   "metadata": {},
   "source": [
    "ROS Reported:<br>\n",
    "`Trans = [1.133, 2.144, 2.042]\n",
    "Rot   = [1.119, 0.324, 1.860]`"
   ]
  },
  {
   "cell_type": "code",
   "execution_count": 14,
   "metadata": {
    "collapsed": false
   },
   "outputs": [
    {
     "name": "stdout",
     "output_type": "stream",
     "text": [
      "pos    = [ 1.14188  2.14032  2.04100]\n",
      "orient = [ 0.68313  0.32273  1.86052]\n"
     ]
    }
   ],
   "source": [
    "th = [0.99, 0.32, -0.49, 1.05, 0.99, -0.44, 0]\n",
    "CalculateEffector(DH, th)"
   ]
  },
  {
   "cell_type": "markdown",
   "metadata": {},
   "source": [
    "ROS Reported:<br>\n",
    "`Trans = [1.133, 2.144, 2.042]\n",
    "Rot   = [0.678, 0.324, 1.860]`"
   ]
  }
 ],
 "metadata": {
  "kernelspec": {
   "display_name": "Python 2",
   "language": "python",
   "name": "python2"
  },
  "language_info": {
   "codemirror_mode": {
    "name": "ipython",
    "version": 2
   },
   "file_extension": ".py",
   "mimetype": "text/x-python",
   "name": "python",
   "nbconvert_exporter": "python",
   "pygments_lexer": "ipython2",
   "version": "2.7.13"
  }
 },
 "nbformat": 4,
 "nbformat_minor": 0
}
